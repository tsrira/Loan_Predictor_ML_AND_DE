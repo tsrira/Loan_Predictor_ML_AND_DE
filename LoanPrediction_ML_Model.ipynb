{
 "cells": [
  {
   "cell_type": "code",
   "execution_count": 239,
   "id": "bb5f0ab4-68de-4d62-9afb-19f15d6de4fa",
   "metadata": {},
   "outputs": [
    {
     "name": "stdout",
     "output_type": "stream",
     "text": [
      "Requirement already satisfied: scikit-learn==1.7.1 in d:\\admin\\anaconda3\\lib\\site-packages (1.7.1)\n",
      "Requirement already satisfied: numpy>=1.22.0 in d:\\admin\\anaconda3\\lib\\site-packages (from scikit-learn==1.7.1) (1.26.4)\n",
      "Requirement already satisfied: scipy>=1.8.0 in d:\\admin\\anaconda3\\lib\\site-packages (from scikit-learn==1.7.1) (1.13.1)\n",
      "Requirement already satisfied: joblib>=1.2.0 in d:\\admin\\anaconda3\\lib\\site-packages (from scikit-learn==1.7.1) (1.4.2)\n",
      "Requirement already satisfied: threadpoolctl>=3.1.0 in d:\\admin\\anaconda3\\lib\\site-packages (from scikit-learn==1.7.1) (3.5.0)\n"
     ]
    }
   ],
   "source": [
    "!pip install --upgrade --no-cache-dir scikit-learn==1.7.1"
   ]
  },
  {
   "cell_type": "code",
   "execution_count": 240,
   "id": "f16baa7c-bca4-4cc4-aa14-74ae1ee0d895",
   "metadata": {},
   "outputs": [
    {
     "name": "stdout",
     "output_type": "stream",
     "text": [
      "Python 3.12.7\n",
      "\n",
      "Sklearn 1.7.1\n"
     ]
    }
   ],
   "source": [
    "import sklearn\n",
    "!python --version\n",
    "print(f\"\\nSklearn {sklearn.__version__}\")"
   ]
  },
  {
   "cell_type": "code",
   "execution_count": 241,
   "id": "60d64ddd-74ea-4b51-aa35-f2a09ccdfbec",
   "metadata": {},
   "outputs": [],
   "source": [
    "# Importing important libraries\n",
    "import pandas as pd\n",
    "import pymysql\n",
    "from sklearn.model_selection import train_test_split\n",
    "from sklearn.preprocessing import LabelEncoder, OneHotEncoder, StandardScaler\n",
    "from sklearn.ensemble import RandomForestClassifier\n",
    "from sklearn.metrics import accuracy_score, precision_score, recall_score, f1_score, classification_report\n",
    "import pickle\n",
    "import warnings\n",
    "warnings.filterwarnings(\"ignore\")"
   ]
  },
  {
   "cell_type": "code",
   "execution_count": 242,
   "id": "7003827d-ce71-42a9-9a9c-8512d56bedc8",
   "metadata": {},
   "outputs": [],
   "source": [
    "# 1.1. Creating connection to MySQL Database\n",
    "connection = pymysql.connect(\n",
    "    host = 'localhost', \n",
    "    user = 'root',\n",
    "    password = 'Gautham@123', # Use your own password here\n",
    "    database = 'BigMart'\n",
    ")"
   ]
  },
  {
   "cell_type": "code",
   "execution_count": 243,
   "id": "8f881f44-7e2a-4cb3-ba08-beebba6bd326",
   "metadata": {},
   "outputs": [],
   "source": [
    "cursor = connection.cursor()"
   ]
  },
  {
   "cell_type": "code",
   "execution_count": 244,
   "id": "ef71331d-206a-4de1-a30c-d94f9123baed",
   "metadata": {},
   "outputs": [
    {
     "data": {
      "text/plain": [
       "0"
      ]
     },
     "execution_count": 244,
     "metadata": {},
     "output_type": "execute_result"
    }
   ],
   "source": [
    "# -----------------------------\n",
    "# 1.2. Create Database\n",
    "# -----------------------------\n",
    "cursor.execute(\"DROP DATABASE IF EXISTS loan_db\")\n",
    "cursor.execute(\"CREATE DATABASE loan_db\")\n",
    "cursor.execute(\"USE loan_db\")"
   ]
  },
  {
   "cell_type": "code",
   "execution_count": 245,
   "id": "8079478b-c288-4487-aa20-c9bfe82243ff",
   "metadata": {},
   "outputs": [
    {
     "data": {
      "text/plain": [
       "0"
      ]
     },
     "execution_count": 245,
     "metadata": {},
     "output_type": "execute_result"
    }
   ],
   "source": [
    "# -----------------------------\n",
    "# 1.3. Create Tables\n",
    "# -----------------------------\n",
    "cursor.execute(\"\"\"\n",
    "CREATE TABLE IF NOT EXISTS applicant_info (\n",
    "    Loan_ID VARCHAR(20) PRIMARY KEY,\n",
    "    Gender VARCHAR(10),\n",
    "    Married VARCHAR(10),\n",
    "    Dependents VARCHAR(5),\n",
    "    Education VARCHAR(50),\n",
    "    Self_Employed VARCHAR(10)\n",
    ")\n",
    "\"\"\")\n",
    "\n",
    "cursor.execute(\"\"\"\n",
    "CREATE TABLE IF NOT EXISTS financial_info (\n",
    "    Loan_ID VARCHAR(20) PRIMARY KEY,\n",
    "    ApplicantIncome INT,\n",
    "    CoapplicantIncome FLOAT,\n",
    "    LoanAmount FLOAT,\n",
    "    Loan_Amount_Term FLOAT,\n",
    "    Credit_History FLOAT,\n",
    "    FOREIGN KEY (Loan_ID) REFERENCES applicant_info(Loan_ID)\n",
    ")\n",
    "\"\"\")\n",
    "\n",
    "cursor.execute(\"\"\"\n",
    "CREATE TABLE IF NOT EXISTS loan_info (\n",
    "    Loan_ID VARCHAR(20) PRIMARY KEY,\n",
    "    Property_Area VARCHAR(20),\n",
    "    Loan_Status VARCHAR(5),\n",
    "    FOREIGN KEY (Loan_ID) REFERENCES applicant_info(Loan_ID)\n",
    ")\n",
    "\"\"\")"
   ]
  },
  {
   "cell_type": "code",
   "execution_count": 246,
   "id": "b64e5657-e408-4363-bef4-c3ff79e0b438",
   "metadata": {},
   "outputs": [],
   "source": [
    "# -----------------------------\n",
    "# 1.4. Load JSON Files\n",
    "# -----------------------------\n",
    "def load_json_to_table(filename, table, fields):\n",
    "    with open(filename, \"r\") as f:\n",
    "        for line in f:\n",
    "            record = json.loads(line)\n",
    "            values = [record.get(field) for field in fields]\n",
    "            placeholders = \", \".join([\"%s\"] * len(values))\n",
    "            sql = f\"REPLACE INTO {table} ({', '.join(fields)}) VALUES ({placeholders})\"\n",
    "            cursor.execute(sql, values)"
   ]
  },
  {
   "cell_type": "code",
   "execution_count": 247,
   "id": "d71988bb-6b04-40f9-aa81-7ae510cb41b1",
   "metadata": {},
   "outputs": [],
   "source": [
    "# Insert applicant_info\n",
    "load_json_to_table(\n",
    "    \"applicant_info.json\",\n",
    "    \"applicant_info\",\n",
    "    [\"Loan_ID\", \"Gender\", \"Married\", \"Dependents\", \"Education\", \"Self_Employed\"]\n",
    ")"
   ]
  },
  {
   "cell_type": "code",
   "execution_count": 248,
   "id": "7fbc6ab5-2eec-4247-be6d-32008ffec74b",
   "metadata": {},
   "outputs": [
    {
     "data": {
      "text/html": [
       "<div>\n",
       "<style scoped>\n",
       "    .dataframe tbody tr th:only-of-type {\n",
       "        vertical-align: middle;\n",
       "    }\n",
       "\n",
       "    .dataframe tbody tr th {\n",
       "        vertical-align: top;\n",
       "    }\n",
       "\n",
       "    .dataframe thead th {\n",
       "        text-align: right;\n",
       "    }\n",
       "</style>\n",
       "<table border=\"1\" class=\"dataframe\">\n",
       "  <thead>\n",
       "    <tr style=\"text-align: right;\">\n",
       "      <th></th>\n",
       "      <th>Loan_ID</th>\n",
       "      <th>Gender</th>\n",
       "      <th>Married</th>\n",
       "      <th>Dependents</th>\n",
       "      <th>Education</th>\n",
       "      <th>Self_Employed</th>\n",
       "    </tr>\n",
       "  </thead>\n",
       "  <tbody>\n",
       "    <tr>\n",
       "      <th>0</th>\n",
       "      <td>LP001002</td>\n",
       "      <td>Male</td>\n",
       "      <td>No</td>\n",
       "      <td>0</td>\n",
       "      <td>Graduate</td>\n",
       "      <td>No</td>\n",
       "    </tr>\n",
       "    <tr>\n",
       "      <th>1</th>\n",
       "      <td>LP001003</td>\n",
       "      <td>Male</td>\n",
       "      <td>Yes</td>\n",
       "      <td>1</td>\n",
       "      <td>Graduate</td>\n",
       "      <td>No</td>\n",
       "    </tr>\n",
       "    <tr>\n",
       "      <th>2</th>\n",
       "      <td>LP001005</td>\n",
       "      <td>Male</td>\n",
       "      <td>Yes</td>\n",
       "      <td>0</td>\n",
       "      <td>Graduate</td>\n",
       "      <td>Yes</td>\n",
       "    </tr>\n",
       "    <tr>\n",
       "      <th>3</th>\n",
       "      <td>LP001006</td>\n",
       "      <td>Male</td>\n",
       "      <td>Yes</td>\n",
       "      <td>0</td>\n",
       "      <td>Not Graduate</td>\n",
       "      <td>No</td>\n",
       "    </tr>\n",
       "    <tr>\n",
       "      <th>4</th>\n",
       "      <td>LP001008</td>\n",
       "      <td>Male</td>\n",
       "      <td>No</td>\n",
       "      <td>0</td>\n",
       "      <td>Graduate</td>\n",
       "      <td>No</td>\n",
       "    </tr>\n",
       "  </tbody>\n",
       "</table>\n",
       "</div>"
      ],
      "text/plain": [
       "    Loan_ID Gender Married Dependents     Education Self_Employed\n",
       "0  LP001002   Male      No          0      Graduate            No\n",
       "1  LP001003   Male     Yes          1      Graduate            No\n",
       "2  LP001005   Male     Yes          0      Graduate           Yes\n",
       "3  LP001006   Male     Yes          0  Not Graduate            No\n",
       "4  LP001008   Male      No          0      Graduate            No"
      ]
     },
     "execution_count": 248,
     "metadata": {},
     "output_type": "execute_result"
    }
   ],
   "source": [
    "# Creating the data for applicant\n",
    "df_applicant = pd.read_sql(\"SELECT * FROM applicant_info\",connection)\n",
    "df_applicant.head()"
   ]
  },
  {
   "cell_type": "code",
   "execution_count": 249,
   "id": "f124ab4b-093f-4140-9ab8-f7269d421a96",
   "metadata": {},
   "outputs": [],
   "source": [
    "# Insert financial_info\n",
    "load_json_to_table(\n",
    "    \"financial_info.json\",\n",
    "    \"financial_info\",\n",
    "    [\"Loan_ID\", \"ApplicantIncome\", \"CoapplicantIncome\", \"LoanAmount\", \"Loan_Amount_Term\", \"Credit_History\"]\n",
    ")"
   ]
  },
  {
   "cell_type": "code",
   "execution_count": 250,
   "id": "cc1e86f1-685b-4b16-9387-43b2ba6fb683",
   "metadata": {},
   "outputs": [
    {
     "data": {
      "text/html": [
       "<div>\n",
       "<style scoped>\n",
       "    .dataframe tbody tr th:only-of-type {\n",
       "        vertical-align: middle;\n",
       "    }\n",
       "\n",
       "    .dataframe tbody tr th {\n",
       "        vertical-align: top;\n",
       "    }\n",
       "\n",
       "    .dataframe thead th {\n",
       "        text-align: right;\n",
       "    }\n",
       "</style>\n",
       "<table border=\"1\" class=\"dataframe\">\n",
       "  <thead>\n",
       "    <tr style=\"text-align: right;\">\n",
       "      <th></th>\n",
       "      <th>Loan_ID</th>\n",
       "      <th>ApplicantIncome</th>\n",
       "      <th>CoapplicantIncome</th>\n",
       "      <th>LoanAmount</th>\n",
       "      <th>Loan_Amount_Term</th>\n",
       "      <th>Credit_History</th>\n",
       "    </tr>\n",
       "  </thead>\n",
       "  <tbody>\n",
       "    <tr>\n",
       "      <th>0</th>\n",
       "      <td>LP001002</td>\n",
       "      <td>5849</td>\n",
       "      <td>0.0</td>\n",
       "      <td>NaN</td>\n",
       "      <td>360.0</td>\n",
       "      <td>1.0</td>\n",
       "    </tr>\n",
       "    <tr>\n",
       "      <th>1</th>\n",
       "      <td>LP001003</td>\n",
       "      <td>4583</td>\n",
       "      <td>1508.0</td>\n",
       "      <td>128.0</td>\n",
       "      <td>360.0</td>\n",
       "      <td>1.0</td>\n",
       "    </tr>\n",
       "    <tr>\n",
       "      <th>2</th>\n",
       "      <td>LP001005</td>\n",
       "      <td>3000</td>\n",
       "      <td>0.0</td>\n",
       "      <td>66.0</td>\n",
       "      <td>360.0</td>\n",
       "      <td>1.0</td>\n",
       "    </tr>\n",
       "    <tr>\n",
       "      <th>3</th>\n",
       "      <td>LP001006</td>\n",
       "      <td>2583</td>\n",
       "      <td>2358.0</td>\n",
       "      <td>120.0</td>\n",
       "      <td>360.0</td>\n",
       "      <td>1.0</td>\n",
       "    </tr>\n",
       "    <tr>\n",
       "      <th>4</th>\n",
       "      <td>LP001008</td>\n",
       "      <td>6000</td>\n",
       "      <td>0.0</td>\n",
       "      <td>141.0</td>\n",
       "      <td>360.0</td>\n",
       "      <td>1.0</td>\n",
       "    </tr>\n",
       "  </tbody>\n",
       "</table>\n",
       "</div>"
      ],
      "text/plain": [
       "    Loan_ID  ApplicantIncome  CoapplicantIncome  LoanAmount  Loan_Amount_Term  \\\n",
       "0  LP001002             5849                0.0         NaN             360.0   \n",
       "1  LP001003             4583             1508.0       128.0             360.0   \n",
       "2  LP001005             3000                0.0        66.0             360.0   \n",
       "3  LP001006             2583             2358.0       120.0             360.0   \n",
       "4  LP001008             6000                0.0       141.0             360.0   \n",
       "\n",
       "   Credit_History  \n",
       "0             1.0  \n",
       "1             1.0  \n",
       "2             1.0  \n",
       "3             1.0  \n",
       "4             1.0  "
      ]
     },
     "execution_count": 250,
     "metadata": {},
     "output_type": "execute_result"
    }
   ],
   "source": [
    "# Creating the data for financial\n",
    "df_financial = pd.read_sql(\"SELECT * FROM financial_info\",connection)\n",
    "df_financial.head()"
   ]
  },
  {
   "cell_type": "code",
   "execution_count": 251,
   "id": "677a3663-3cc6-472d-a00e-4b02b96a872f",
   "metadata": {},
   "outputs": [],
   "source": [
    "# Insert loan_info\n",
    "load_json_to_table(\n",
    "    \"loan_info.json\",\n",
    "    \"loan_info\",\n",
    "    [\"Loan_ID\", \"Property_Area\", \"Loan_Status\"]\n",
    ")"
   ]
  },
  {
   "cell_type": "code",
   "execution_count": 252,
   "id": "fa81c16f-2e7f-4da4-89c9-9809648f78d9",
   "metadata": {},
   "outputs": [
    {
     "data": {
      "text/html": [
       "<div>\n",
       "<style scoped>\n",
       "    .dataframe tbody tr th:only-of-type {\n",
       "        vertical-align: middle;\n",
       "    }\n",
       "\n",
       "    .dataframe tbody tr th {\n",
       "        vertical-align: top;\n",
       "    }\n",
       "\n",
       "    .dataframe thead th {\n",
       "        text-align: right;\n",
       "    }\n",
       "</style>\n",
       "<table border=\"1\" class=\"dataframe\">\n",
       "  <thead>\n",
       "    <tr style=\"text-align: right;\">\n",
       "      <th></th>\n",
       "      <th>Loan_ID</th>\n",
       "      <th>Property_Area</th>\n",
       "      <th>Loan_Status</th>\n",
       "    </tr>\n",
       "  </thead>\n",
       "  <tbody>\n",
       "    <tr>\n",
       "      <th>0</th>\n",
       "      <td>LP001002</td>\n",
       "      <td>Urban</td>\n",
       "      <td>Y</td>\n",
       "    </tr>\n",
       "    <tr>\n",
       "      <th>1</th>\n",
       "      <td>LP001003</td>\n",
       "      <td>Rural</td>\n",
       "      <td>N</td>\n",
       "    </tr>\n",
       "    <tr>\n",
       "      <th>2</th>\n",
       "      <td>LP001005</td>\n",
       "      <td>Urban</td>\n",
       "      <td>Y</td>\n",
       "    </tr>\n",
       "    <tr>\n",
       "      <th>3</th>\n",
       "      <td>LP001006</td>\n",
       "      <td>Urban</td>\n",
       "      <td>Y</td>\n",
       "    </tr>\n",
       "    <tr>\n",
       "      <th>4</th>\n",
       "      <td>LP001008</td>\n",
       "      <td>Urban</td>\n",
       "      <td>Y</td>\n",
       "    </tr>\n",
       "  </tbody>\n",
       "</table>\n",
       "</div>"
      ],
      "text/plain": [
       "    Loan_ID Property_Area Loan_Status\n",
       "0  LP001002         Urban           Y\n",
       "1  LP001003         Rural           N\n",
       "2  LP001005         Urban           Y\n",
       "3  LP001006         Urban           Y\n",
       "4  LP001008         Urban           Y"
      ]
     },
     "execution_count": 252,
     "metadata": {},
     "output_type": "execute_result"
    }
   ],
   "source": [
    "# Creating the data for loan\n",
    "df_financial = pd.read_sql(\"SELECT * FROM loan_info\",connection)\n",
    "df_financial.head()"
   ]
  },
  {
   "cell_type": "code",
   "execution_count": 253,
   "id": "5af837f7-c658-4b44-b4b6-593c538e6d60",
   "metadata": {},
   "outputs": [],
   "source": [
    "# -----------------------------\n",
    "# 5. Commit\n",
    "# -----------------------------\n",
    "connection.commit()"
   ]
  },
  {
   "cell_type": "code",
   "execution_count": 254,
   "id": "a37bf69d-4c7a-45a8-a859-50520c3d1c90",
   "metadata": {},
   "outputs": [
    {
     "data": {
      "text/plain": [
       "'\\n2. Data Retrieval & Preprocessing\\nObjective: Prepare data for training.\\nTasks:\\n● Retrieve data from MySQL into Pandas DataFrames.\\n● Merge datasets into a single table using a common key (e.g., Applicant_ID).\\n● Handle missing values.\\n● Encode categorical features (Gender, Education, Marital Status, etc.).\\n● Scale numerical features if necessary.\\n● Split the dataset into train/test sets.\\n'"
      ]
     },
     "execution_count": 254,
     "metadata": {},
     "output_type": "execute_result"
    }
   ],
   "source": [
    "'''\n",
    "2. Data Retrieval & Preprocessing\n",
    "Objective: Prepare data for training.\n",
    "Tasks:\n",
    "● Retrieve data from MySQL into Pandas DataFrames.\n",
    "● Merge datasets into a single table using a common key (e.g., Applicant_ID).\n",
    "● Handle missing values.\n",
    "● Encode categorical features (Gender, Education, Marital Status, etc.).\n",
    "● Scale numerical features if necessary.\n",
    "● Split the dataset into train/test sets.\n",
    "'''"
   ]
  },
  {
   "cell_type": "code",
   "execution_count": 255,
   "id": "d580d352-5bd0-4452-8802-8e6f3956061d",
   "metadata": {},
   "outputs": [
    {
     "name": "stdout",
     "output_type": "stream",
     "text": [
      "✅ Data Retrieved from MySQL\n",
      "    Loan_ID Gender Married Dependents     Education Self_Employed  \\\n",
      "0  LP001002   Male      No          0      Graduate            No   \n",
      "1  LP001003   Male     Yes          1      Graduate            No   \n",
      "2  LP001005   Male     Yes          0      Graduate           Yes   \n",
      "3  LP001006   Male     Yes          0  Not Graduate            No   \n",
      "4  LP001008   Male      No          0      Graduate            No   \n",
      "\n",
      "   ApplicantIncome  CoapplicantIncome  LoanAmount  Loan_Amount_Term  \\\n",
      "0             5849                0.0         NaN             360.0   \n",
      "1             4583             1508.0       128.0             360.0   \n",
      "2             3000                0.0        66.0             360.0   \n",
      "3             2583             2358.0       120.0             360.0   \n",
      "4             6000                0.0       141.0             360.0   \n",
      "\n",
      "   Credit_History Property_Area Loan_Status  \n",
      "0             1.0         Urban           Y  \n",
      "1             1.0         Rural           N  \n",
      "2             1.0         Urban           Y  \n",
      "3             1.0         Urban           Y  \n",
      "4             1.0         Urban           Y  \n"
     ]
    }
   ],
   "source": [
    "# 2.1. Retrieve data from MySQL into Pandas DataFrames.\n",
    "query = \"\"\"\n",
    "SELECT \n",
    "    a.Loan_ID, a.Gender, a.Married, a.Dependents, a.Education, a.Self_Employed,\n",
    "    f.ApplicantIncome, f.CoapplicantIncome, f.LoanAmount, f.Loan_Amount_Term, f.Credit_History,\n",
    "    l.Property_Area, l.Loan_Status\n",
    "FROM applicant_info a\n",
    "JOIN financial_info f ON a.Loan_ID = f.Loan_ID\n",
    "JOIN loan_info l ON a.Loan_ID = l.Loan_ID\n",
    "\"\"\"\n",
    "df = pd.read_sql(query, connection)\n",
    "connection.close()\n",
    "cursor.close()\n",
    "print(\"✅ Data Retrieved from MySQL\")\n",
    "print(df.head())"
   ]
  },
  {
   "cell_type": "code",
   "execution_count": 256,
   "id": "10d6b2a2-79f1-42d2-9ebd-6e305cc29df9",
   "metadata": {},
   "outputs": [
    {
     "name": "stdout",
     "output_type": "stream",
     "text": [
      "Loan_ID               0\n",
      "Gender               13\n",
      "Married               3\n",
      "Dependents           15\n",
      "Education             0\n",
      "Self_Employed        32\n",
      "ApplicantIncome       0\n",
      "CoapplicantIncome     0\n",
      "LoanAmount           22\n",
      "Loan_Amount_Term     14\n",
      "Credit_History       50\n",
      "Property_Area         0\n",
      "Loan_Status           0\n",
      "dtype: int64\n"
     ]
    }
   ],
   "source": [
    "# Check NULL counts per column\n",
    "print(df.isnull().sum())"
   ]
  },
  {
   "cell_type": "code",
   "execution_count": 257,
   "id": "d86b7b03-b8ed-4851-a5cc-b13ac51547b7",
   "metadata": {},
   "outputs": [
    {
     "name": "stdout",
     "output_type": "stream",
     "text": [
      "Shape : (614, 13)\n",
      "Number of rows : 614\n",
      "Number of columns : 13\n"
     ]
    }
   ],
   "source": [
    "# Getting the idea about the shape of the data\n",
    "print(\"Shape :\", df.shape)\n",
    "print(\"Number of rows :\", df.shape[0])\n",
    "print(\"Number of columns :\", df.shape[1])"
   ]
  },
  {
   "cell_type": "code",
   "execution_count": 258,
   "id": "ee739480-c3e2-43c7-ac48-20ad19b491b8",
   "metadata": {},
   "outputs": [
    {
     "name": "stdout",
     "output_type": "stream",
     "text": [
      "✅ Business Rules Applied for Missing Values\n",
      "Loan_ID              0\n",
      "Gender               0\n",
      "Married              0\n",
      "Dependents           0\n",
      "Education            0\n",
      "Self_Employed        0\n",
      "ApplicantIncome      0\n",
      "CoapplicantIncome    0\n",
      "LoanAmount           0\n",
      "Loan_Amount_Term     0\n",
      "Credit_History       0\n",
      "Property_Area        0\n",
      "Loan_Status          0\n",
      "dtype: int64\n"
     ]
    }
   ],
   "source": [
    "# -----------------------------\n",
    "# 2.2. Handle Missing Values\n",
    "# -----------------------------\n",
    "# (a) CoapplicantIncome → if Married == \"No\", set missing to 0\n",
    "df.loc[(df[\"Married\"] == \"No\") & (df[\"CoapplicantIncome\"].isna()), \"CoapplicantIncome\"] = 0\n",
    "\n",
    "# (b) LoanAmount → fill ONLY nulls with median grouped by (Education, Self_Employed, Property_Area)\n",
    "df.loc[df[\"LoanAmount\"].isna(), \"LoanAmount\"] = df.groupby(\n",
    "    [\"Education\", \"Self_Employed\", \"Property_Area\"]\n",
    ")[\"LoanAmount\"].transform(lambda x: x.fillna(x.median()))\n",
    "\n",
    "#  Global median fallback (for groups where all values were NaN)\n",
    "df[\"LoanAmount\"].fillna(df[\"LoanAmount\"].median(), inplace=True)\n",
    "\n",
    "# (c) Loan_Amount_Term → most common (mode, usually 360 months)\n",
    "df[\"Loan_Amount_Term\"].fillna(df[\"Loan_Amount_Term\"].mode()[0], inplace=True)\n",
    "\n",
    "# (d) Credit_History → introduce new category = 2 for Unknown\n",
    "df[\"Credit_History\"].fillna(2, inplace=True)\n",
    "\n",
    "# (e) Handle Married column\n",
    "# If Dependents > 0 or CoapplicantIncome > 0 → Married = \"Yes\"\n",
    "df.loc[df[\"Married\"].isna() & (df[\"Dependents\"].astype(str) != \"0\"), \"Married\"] = \"Yes\"\n",
    "df.loc[df[\"Married\"].isna() & (df[\"CoapplicantIncome\"] > 0), \"Married\"] = \"Yes\"\n",
    "\n",
    "# If Dependents == 0 and CoapplicantIncome == 0 → Married = \"No\"\n",
    "df.loc[df[\"Married\"].isna() & (df[\"Dependents\"].astype(str) == \"0\") & (df[\"CoapplicantIncome\"] == 0), \"Married\"] = \"No\"\n",
    "\n",
    "# Fallback → fill remaining nulls with mode\n",
    "mode_married = df[\"Married\"].mode()[0]\n",
    "df[\"Married\"].fillna(mode_married, inplace=True)\n",
    "\n",
    "# (f) Dependents → if Married == \"No\", set missing to 0; else fill with mode\n",
    "df.loc[(df[\"Married\"] == \"No\") & (df[\"Dependents\"].isna()), \"Dependents\"] = \"0\"\n",
    "df[\"Dependents\"].fillna(df[\"Dependents\"].mode()[0], inplace=True)\n",
    "\n",
    "# (g) Self_Employed → fill with mode\n",
    "df[\"Self_Employed\"].fillna(df[\"Self_Employed\"].mode()[0], inplace=True)\n",
    "\n",
    "# (h) Gender → fill with mode\n",
    "df[\"Gender\"].fillna(df[\"Gender\"].mode()[0], inplace=True)\n",
    "\n",
    "# (i) Property_Area → fill with mode\n",
    "df[\"Property_Area\"].fillna(df[\"Property_Area\"].mode()[0], inplace=True)\n",
    "\n",
    "# (j) Loan_Status (Target) → drop rows if missing (since we can’t train without labels)\n",
    "df = df.dropna(subset=[\"Loan_Status\"])\n",
    "\n",
    "print(\"✅ Business Rules Applied for Missing Values\")\n",
    "print(df.isnull().sum())"
   ]
  },
  {
   "cell_type": "code",
   "execution_count": 259,
   "id": "863953c6-4457-4bcd-8765-d36ab7a290e1",
   "metadata": {},
   "outputs": [
    {
     "name": "stdout",
     "output_type": "stream",
     "text": [
      "✅ Encoding Done (LabelEncoder + OneHotEncoder)\n"
     ]
    }
   ],
   "source": [
    "# -----------------------------\n",
    "# 2.3. Encode Categorical Features\n",
    "# -----------------------------\n",
    "# Binary categorical → LabelEncoder\n",
    "binary_cols = [\"Gender\", \"Married\", \"Education\", \"Self_Employed\", \"Loan_Status\"]\n",
    "label_encoders = {}\n",
    "for col in binary_cols:\n",
    "    le = LabelEncoder()\n",
    "    df[col] = le.fit_transform(df[col])\n",
    "    label_encoders[col] = le\n",
    "\n",
    "# Multi-category categorical → OneHotEncoder\n",
    "multi_cat_cols = [\"Dependents\", \"Property_Area\"]\n",
    "df = pd.get_dummies(df, columns=multi_cat_cols, drop_first=True)\n",
    "\n",
    "print(\"✅ Encoding Done (LabelEncoder + OneHotEncoder)\")"
   ]
  },
  {
   "cell_type": "code",
   "execution_count": 260,
   "id": "bcc63938-a5f0-4749-8162-f92e6079620f",
   "metadata": {},
   "outputs": [
    {
     "name": "stdout",
     "output_type": "stream",
     "text": [
      "✅ Numerical Features Scaled\n"
     ]
    }
   ],
   "source": [
    "# -----------------------------\n",
    "# 2.4. Scale Numerical Features\n",
    "# -----------------------------\n",
    "num_cols = [\"ApplicantIncome\", \"CoapplicantIncome\", \"LoanAmount\", \"Loan_Amount_Term\", \"Credit_History\"]\n",
    "\n",
    "scaler = StandardScaler()\n",
    "df[num_cols] = scaler.fit_transform(df[num_cols])\n",
    "print(\"✅ Numerical Features Scaled\")"
   ]
  },
  {
   "cell_type": "code",
   "execution_count": 261,
   "id": "e57ed52b-5ed1-4ea9-9456-2ec286cdf24a",
   "metadata": {},
   "outputs": [
    {
     "name": "stdout",
     "output_type": "stream",
     "text": [
      "✅ Data Split into Train/Test Sets\n",
      "Train shape: (491, 14) Test shape: (123, 14)\n"
     ]
    }
   ],
   "source": [
    "# -----------------------------\n",
    "# 5. Train/Test Split\n",
    "# -----------------------------\n",
    "X = df.drop(columns=[\"Loan_ID\", \"Loan_Status\"])\n",
    "y = df[\"Loan_Status\"]\n",
    "\n",
    "X_train, X_test, y_train, y_test = train_test_split(\n",
    "    X, y, test_size=0.2, random_state=42, stratify=y\n",
    ")\n",
    "\n",
    "print(\"✅ Data Split into Train/Test Sets\")\n",
    "print(\"Train shape:\", X_train.shape, \"Test shape:\", X_test.shape)"
   ]
  },
  {
   "cell_type": "code",
   "execution_count": 262,
   "id": "e48cbed7-c9b6-46d5-bf81-89188dd49d50",
   "metadata": {},
   "outputs": [
    {
     "data": {
      "text/plain": [
       "'\\n3. Model Training\\nObjective: Build a classification model for loan approval prediction.\\nTasks:\\n● Train a RandomForestClassifier (or other suitable ML algorithm).\\n● Evaluate using accuracy, precision, recall, and F1-score.\\n● Save trained model as model.pkl using pickle.\\n'"
      ]
     },
     "execution_count": 262,
     "metadata": {},
     "output_type": "execute_result"
    }
   ],
   "source": [
    "'''\n",
    "3. Model Training\n",
    "Objective: Build a classification model for loan approval prediction.\n",
    "Tasks:\n",
    "● Train a RandomForestClassifier (or other suitable ML algorithm).\n",
    "● Evaluate using accuracy, precision, recall, and F1-score.\n",
    "● Save trained model as model.pkl using pickle.\n",
    "'''"
   ]
  },
  {
   "cell_type": "code",
   "execution_count": 263,
   "id": "62dc28fa-4b49-47c8-87b0-fcdf0ace1f37",
   "metadata": {},
   "outputs": [
    {
     "name": "stdout",
     "output_type": "stream",
     "text": [
      "✅ RandomForest Model Trained\n"
     ]
    }
   ],
   "source": [
    "# -----------------------------\n",
    "# 3.1. Train Model\n",
    "# -----------------------------\n",
    "rf_clf = RandomForestClassifier(\n",
    "    n_estimators=200,       # number of trees\n",
    "    max_depth=None,        # let trees grow fully\n",
    "    random_state=42,\n",
    "    class_weight=\"balanced\"  # handle class imbalance\n",
    ")\n",
    "\n",
    "rf_clf.fit(X_train, y_train)\n",
    "print(\"✅ RandomForest Model Trained\")"
   ]
  },
  {
   "cell_type": "code",
   "execution_count": 264,
   "id": "4ef05007-7e92-4dc2-ac65-9068b947ca5b",
   "metadata": {},
   "outputs": [
    {
     "name": "stdout",
     "output_type": "stream",
     "text": [
      "\n",
      "=== Model Evaluation Metrics ===\n",
      "Accuracy : 0.8374\n",
      "Precision: 0.8421\n",
      "Recall   : 0.9412\n",
      "F1-score : 0.8889\n",
      "\n",
      "Detailed Report:\n",
      "              precision    recall  f1-score   support\n",
      "\n",
      "           0       0.82      0.61      0.70        38\n",
      "           1       0.84      0.94      0.89        85\n",
      "\n",
      "    accuracy                           0.84       123\n",
      "   macro avg       0.83      0.77      0.79       123\n",
      "weighted avg       0.84      0.84      0.83       123\n",
      "\n"
     ]
    }
   ],
   "source": [
    "# -----------------------------\n",
    "# 2. Evaluate Model\n",
    "# -----------------------------\n",
    "y_pred = rf_clf.predict(X_test)\n",
    "\n",
    "accuracy  = accuracy_score(y_test, y_pred)\n",
    "precision = precision_score(y_test, y_pred)\n",
    "recall    = recall_score(y_test, y_pred)\n",
    "f1        = f1_score(y_test, y_pred)\n",
    "\n",
    "print(\"\\n=== Model Evaluation Metrics ===\")\n",
    "print(f\"Accuracy : {accuracy:.4f}\")\n",
    "print(f\"Precision: {precision:.4f}\")\n",
    "print(f\"Recall   : {recall:.4f}\")\n",
    "print(f\"F1-score : {f1:.4f}\")\n",
    "print(\"\\nDetailed Report:\")\n",
    "print(classification_report(y_test, y_pred))"
   ]
  },
  {
   "cell_type": "code",
   "execution_count": 265,
   "id": "fc48e3ba-12e4-4c8c-b861-4ecb30590f4c",
   "metadata": {},
   "outputs": [
    {
     "name": "stdout",
     "output_type": "stream",
     "text": [
      "✅ Trained model saved as model.pkl\n"
     ]
    }
   ],
   "source": [
    "# -----------------------------\n",
    "# 3. Save Model\n",
    "# -----------------------------\n",
    "with open(\"model.pkl\", \"wb\") as f:\n",
    "    pickle.dump(rf_clf, f)\n",
    "\n",
    "print(\"✅ Trained model saved as model.pkl\")"
   ]
  },
  {
   "cell_type": "code",
   "execution_count": null,
   "id": "7e987462-d0a5-4dd3-b3fb-e46416f1cf7f",
   "metadata": {},
   "outputs": [],
   "source": []
  }
 ],
 "metadata": {
  "kernelspec": {
   "display_name": "Python [conda env:base] *",
   "language": "python",
   "name": "conda-base-py"
  },
  "language_info": {
   "codemirror_mode": {
    "name": "ipython",
    "version": 3
   },
   "file_extension": ".py",
   "mimetype": "text/x-python",
   "name": "python",
   "nbconvert_exporter": "python",
   "pygments_lexer": "ipython3",
   "version": "3.12.7"
  }
 },
 "nbformat": 4,
 "nbformat_minor": 5
}
